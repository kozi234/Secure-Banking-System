{
 "cells": [
  {
   "cell_type": "code",
   "execution_count": 4,
   "id": "50df105c-d37c-429f-91ef-f9b7659ef6d4",
   "metadata": {},
   "outputs": [
    {
     "name": "stdout",
     "output_type": "stream",
     "text": [
      "\n",
      "✅ Account Successfully Created:\n",
      " account_id='dfba4f031a' account_type='savings' balance=500.0 owner_id=12345 description=None\n"
     ]
    }
   ],
   "source": [
    "\"\"\"\n",
    "Title: Account Model - Secure Banking System\n",
    "Author: John A. Kibozi\n",
    "Course: CSC3028X00\n",
    "Date: March 10, 2025\n",
    "Description:\n",
    "This module defines the Account model for the Secure Banking System.\n",
    "It ensures account data integrity through strict validation.\n",
    "\"\"\"\n",
    "\n",
    "import uuid\n",
    "from typing import Literal, Optional\n",
    "from pydantic import BaseModel, field_validator\n",
    "\n",
    "\n",
    "class Account(BaseModel):\n",
    "    \"\"\"Represents a bank account with strict validation rules.\"\"\"\n",
    "    \n",
    "    account_id: str  # Unique account identifier\n",
    "    account_type: Literal[\"savings\", \"checking\", \"investment\"]  # Restricted account types\n",
    "    balance: float  # Account balance (cannot be negative)\n",
    "    owner_id: int  # ID of the user who owns the account\n",
    "    description: Optional[str] = None  # Optional description for the account\n",
    "\n",
    "    @field_validator(\"account_id\")\n",
    "    @classmethod\n",
    "    def validate_account_id(cls, value):\n",
    "        \"\"\"Ensures the account ID is exactly 10 alphanumeric characters.\"\"\"\n",
    "        if not value.isalnum() or len(value) != 10:\n",
    "            raise ValueError(\"Account ID must be exactly 10 alphanumeric characters.\")\n",
    "        return value\n",
    "\n",
    "    @field_validator(\"balance\")\n",
    "    @classmethod\n",
    "    def validate_balance(cls, value):\n",
    "        \"\"\"Ensures the balance is non-negative and rounds to two decimal places.\"\"\"\n",
    "        if value < 0:\n",
    "            raise ValueError(\"Balance cannot be negative.\")\n",
    "        return round(value, 2)\n",
    "\n",
    "    @classmethod\n",
    "    def create_new_account(cls, account_type: str, owner_id: int, initial_balance: float = 0.0):\n",
    "        \"\"\"Creates a new account with a randomly generated account ID.\"\"\"\n",
    "        return cls(\n",
    "            account_id=str(uuid.uuid4().hex[:10]),  # Generate a unique 10-character ID\n",
    "            account_type=account_type,\n",
    "            balance=initial_balance,\n",
    "            owner_id=owner_id\n",
    "        )\n",
    "\n",
    "\n",
    "# **Test Case: Creating an Account**\n",
    "if __name__ == \"__main__\":\n",
    "    try:\n",
    "        new_account = Account.create_new_account(\"savings\", owner_id=12345, initial_balance=500.0)\n",
    "        print(\"\\n✅ Account Successfully Created:\\n\", new_account)\n",
    "    except ValueError as e:\n",
    "        print(f\"❌ Error: {e}\")"
   ]
  },
  {
   "cell_type": "code",
   "execution_count": null,
   "id": "91541f54-eb43-4a2d-9e31-968d01c94947",
   "metadata": {},
   "outputs": [],
   "source": []
  }
 ],
 "metadata": {
  "kernelspec": {
   "display_name": "Python [conda env:base] *",
   "language": "python",
   "name": "conda-base-py"
  },
  "language_info": {
   "codemirror_mode": {
    "name": "ipython",
    "version": 3
   },
   "file_extension": ".py",
   "mimetype": "text/x-python",
   "name": "python",
   "nbconvert_exporter": "python",
   "pygments_lexer": "ipython3",
   "version": "3.12.7"
  }
 },
 "nbformat": 4,
 "nbformat_minor": 5
}
