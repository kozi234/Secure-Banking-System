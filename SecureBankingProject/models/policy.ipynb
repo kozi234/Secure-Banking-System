{
 "cells": [
  {
   "cell_type": "code",
   "execution_count": 11,
   "id": "f7644aaa-7201-456b-8731-ede047829ed2",
   "metadata": {},
   "outputs": [],
   "source": [
    "class SecurityPolicy:\n",
    "    # Password policy\n",
    "    MIN_PASSWORD_LENGTH = 10\n",
    "    PASSWORD_COMPLEXITY_REGEX = r\"^(?=.*[A-Z])(?=.*\\d)(?=.*[@$!%*#?&])[A-Za-z\\d@$!%*#?&]{10,}$\"\n",
    "    \n",
    "    # Transaction policies\n",
    "    MAX_TRANSACTION_LIMIT = 5000.00  # Limit per transaction\n",
    "    DAILY_TRANSACTION_LIMIT = 15000.00  # Max total per user per day\n",
    "    ALLOWED_TRANSACTION_TYPES = [\"deposit\", \"withdrawal\", \"transfer\"]\n",
    "    \n",
    "    # Fraud detection / suspicious activity\n",
    "    MAX_FAILED_LOGIN_ATTEMPTS = 5\n",
    "    SESSION_TIMEOUT_MINUTES = 15\n",
    "    \n",
    "    # Logging policy\n",
    "    ENABLE_LOGGING = True\n",
    "    LOG_FILE_PATH = \"logs/audit_log.json\"\n",
    "    LOG_LEVEL = \"INFO\"  # Could be: DEBUG, INFO, WARNING, ERROR\n",
    "    \n",
    "    # Account security\n",
    "    ACCOUNT_ID_LENGTH = 10\n",
    "    ALLOW_SAME_ACCOUNT_TRANSFER = False"
   ]
  },
  {
   "cell_type": "code",
   "execution_count": null,
   "id": "95461906-c7df-4638-990b-67f03c4ffac4",
   "metadata": {},
   "outputs": [],
   "source": []
  }
 ],
 "metadata": {
  "kernelspec": {
   "display_name": "Python [conda env:base] *",
   "language": "python",
   "name": "conda-base-py"
  },
  "language_info": {
   "codemirror_mode": {
    "name": "ipython",
    "version": 3
   },
   "file_extension": ".py",
   "mimetype": "text/x-python",
   "name": "python",
   "nbconvert_exporter": "python",
   "pygments_lexer": "ipython3",
   "version": "3.12.7"
  }
 },
 "nbformat": 4,
 "nbformat_minor": 5
}
