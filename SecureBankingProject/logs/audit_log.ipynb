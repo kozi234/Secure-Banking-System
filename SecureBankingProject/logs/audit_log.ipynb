{
 "cells": [
  {
   "cell_type": "code",
   "execution_count": 7,
   "id": "250a2d6b-9c1f-4f31-a48f-9ad0ba86bc58",
   "metadata": {},
   "outputs": [
    {
     "name": "stdout",
     "output_type": "stream",
     "text": [
      "✅ Audit logger initialized.\n"
     ]
    }
   ],
   "source": [
    "\"\"\"\n",
    "Title: Secure Audit Logging Utility\n",
    "Author: John A. Kibozi\n",
    "Course: CSC3028X00\n",
    "Date: March 10, 2025\n",
    "Description:\n",
    "This module handles secure audit logging for the Secure Banking System.\n",
    "It logs user actions, transactions, and potential security events.\n",
    "\"\"\"\n",
    "\n",
    "import logging\n",
    "from datetime import datetime\n",
    "import os\n",
    "\n",
    "# Ensure log directory exists\n",
    "LOG_DIR = \"logs\"\n",
    "if not os.path.exists(LOG_DIR):\n",
    "    os.makedirs(LOG_DIR)\n",
    "\n",
    "# Configure logger\n",
    "logging.basicConfig(\n",
    "    filename=\"logs/audit_log.txt\",\n",
    "    level=logging.INFO,\n",
    "    format=\"%(asctime)s [%(levelname)s] %(message)s\",\n",
    "    filemode='a'\n",
    ")\n",
    "\n",
    "def log_event(message: str, level=\"info\"):\n",
    "    \"\"\"\n",
    "    Logs a security event.\n",
    "    Params:\n",
    "        message (str): The message to log\n",
    "        level (str): The log level - \"info\", \"warning\", or \"error\"\n",
    "    \"\"\"\n",
    "    if level == \"info\":\n",
    "        logging.info(message)\n",
    "    elif level == \"warning\":\n",
    "        logging.warning(message)\n",
    "    elif level == \"error\":\n",
    "        logging.error(message)\n",
    "    elif level == \"critical\":\n",
    "        logging.critical(message)\n",
    "\n",
    "\n",
    "print(\"✅ Audit logger initialized.\")"
   ]
  },
  {
   "cell_type": "code",
   "execution_count": 3,
   "id": "6c109f31-f4cb-4c29-9c40-313d40f21a16",
   "metadata": {},
   "outputs": [
    {
     "name": "stdout",
     "output_type": "stream",
     "text": [
      "✅ Events logged to: logs\\audit.log\n"
     ]
    }
   ],
   "source": [
    "# ✅ Usage Examples\n",
    "if __name__ == \"__main__\":\n",
    "    log_event(\"🔐 User login successful: user_id=12345\")\n",
    "    log_event(\"💸 Transaction created: deposit of $200\", level=\"info\")\n",
    "    log_event(\"🚫 Policy violation: transaction above max limit!\", level=\"warning\")\n",
    "    log_event(\"⚠️ Login attempt failed: invalid password\", level=\"error\")\n",
    "\n",
    "    print(\"✅ Events logged to:\", log_file)"
   ]
  },
  {
   "cell_type": "code",
   "execution_count": null,
   "id": "56d915ec-dc1b-4ed8-ae04-36008b193f4a",
   "metadata": {},
   "outputs": [],
   "source": []
  }
 ],
 "metadata": {
  "kernelspec": {
   "display_name": "Python [conda env:base] *",
   "language": "python",
   "name": "conda-base-py"
  },
  "language_info": {
   "codemirror_mode": {
    "name": "ipython",
    "version": 3
   },
   "file_extension": ".py",
   "mimetype": "text/x-python",
   "name": "python",
   "nbconvert_exporter": "python",
   "pygments_lexer": "ipython3",
   "version": "3.12.7"
  }
 },
 "nbformat": 4,
 "nbformat_minor": 5
}
